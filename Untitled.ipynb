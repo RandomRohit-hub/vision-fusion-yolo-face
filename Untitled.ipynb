{
 "cells": [
  {
   "cell_type": "code",
   "execution_count": 2,
   "id": "d8b9ea79-24cd-436c-b6cd-26660246def2",
   "metadata": {},
   "outputs": [],
   "source": [
    "import numpy as np\n",
    "import pandas as pd\n"
   ]
  },
  {
   "cell_type": "code",
   "execution_count": 3,
   "id": "7bd5a78d-56bf-425c-b7bd-6bbfea3359bf",
   "metadata": {},
   "outputs": [
    {
     "data": {
      "text/html": [
       "<div>\n",
       "<style scoped>\n",
       "    .dataframe tbody tr th:only-of-type {\n",
       "        vertical-align: middle;\n",
       "    }\n",
       "\n",
       "    .dataframe tbody tr th {\n",
       "        vertical-align: top;\n",
       "    }\n",
       "\n",
       "    .dataframe thead th {\n",
       "        text-align: right;\n",
       "    }\n",
       "</style>\n",
       "<table border=\"1\" class=\"dataframe\">\n",
       "  <thead>\n",
       "    <tr style=\"text-align: right;\">\n",
       "      <th></th>\n",
       "      <th>artist</th>\n",
       "      <th>song</th>\n",
       "      <th>link</th>\n",
       "      <th>text</th>\n",
       "    </tr>\n",
       "  </thead>\n",
       "  <tbody>\n",
       "    <tr>\n",
       "      <th>0</th>\n",
       "      <td>ABBA</td>\n",
       "      <td>Ahe's My Kind Of Girl</td>\n",
       "      <td>/a/abba/ahes+my+kind+of+girl_20598417.html</td>\n",
       "      <td>Look at her face, it's a wonderful face  \\nAnd...</td>\n",
       "    </tr>\n",
       "    <tr>\n",
       "      <th>1</th>\n",
       "      <td>ABBA</td>\n",
       "      <td>Andante, Andante</td>\n",
       "      <td>/a/abba/andante+andante_20002708.html</td>\n",
       "      <td>Take it easy with me, please  \\nTouch me gentl...</td>\n",
       "    </tr>\n",
       "    <tr>\n",
       "      <th>2</th>\n",
       "      <td>ABBA</td>\n",
       "      <td>As Good As New</td>\n",
       "      <td>/a/abba/as+good+as+new_20003033.html</td>\n",
       "      <td>I'll never know why I had to go  \\nWhy I had t...</td>\n",
       "    </tr>\n",
       "    <tr>\n",
       "      <th>3</th>\n",
       "      <td>ABBA</td>\n",
       "      <td>Bang</td>\n",
       "      <td>/a/abba/bang_20598415.html</td>\n",
       "      <td>Making somebody happy is a question of give an...</td>\n",
       "    </tr>\n",
       "    <tr>\n",
       "      <th>4</th>\n",
       "      <td>ABBA</td>\n",
       "      <td>Bang-A-Boomerang</td>\n",
       "      <td>/a/abba/bang+a+boomerang_20002668.html</td>\n",
       "      <td>Making somebody happy is a question of give an...</td>\n",
       "    </tr>\n",
       "  </tbody>\n",
       "</table>\n",
       "</div>"
      ],
      "text/plain": [
       "  artist                   song                                        link  \\\n",
       "0   ABBA  Ahe's My Kind Of Girl  /a/abba/ahes+my+kind+of+girl_20598417.html   \n",
       "1   ABBA       Andante, Andante       /a/abba/andante+andante_20002708.html   \n",
       "2   ABBA         As Good As New        /a/abba/as+good+as+new_20003033.html   \n",
       "3   ABBA                   Bang                  /a/abba/bang_20598415.html   \n",
       "4   ABBA       Bang-A-Boomerang      /a/abba/bang+a+boomerang_20002668.html   \n",
       "\n",
       "                                                text  \n",
       "0  Look at her face, it's a wonderful face  \\nAnd...  \n",
       "1  Take it easy with me, please  \\nTouch me gentl...  \n",
       "2  I'll never know why I had to go  \\nWhy I had t...  \n",
       "3  Making somebody happy is a question of give an...  \n",
       "4  Making somebody happy is a question of give an...  "
      ]
     },
     "execution_count": 3,
     "metadata": {},
     "output_type": "execute_result"
    }
   ],
   "source": [
    "df=pd.read_csv('songdata.csv')\n",
    "df.head()"
   ]
  },
  {
   "cell_type": "code",
   "execution_count": 4,
   "id": "abf789c0-4824-4218-a113-ebb7a4a75bd5",
   "metadata": {},
   "outputs": [
    {
     "data": {
      "text/plain": [
       "(57650, 4)"
      ]
     },
     "execution_count": 4,
     "metadata": {},
     "output_type": "execute_result"
    }
   ],
   "source": [
    "df.shape"
   ]
  },
  {
   "cell_type": "code",
   "execution_count": 5,
   "id": "8a132aa2-1c2d-4cfa-b7a8-eaebb840780a",
   "metadata": {},
   "outputs": [
    {
     "data": {
      "text/html": [
       "<div>\n",
       "<style scoped>\n",
       "    .dataframe tbody tr th:only-of-type {\n",
       "        vertical-align: middle;\n",
       "    }\n",
       "\n",
       "    .dataframe tbody tr th {\n",
       "        vertical-align: top;\n",
       "    }\n",
       "\n",
       "    .dataframe thead th {\n",
       "        text-align: right;\n",
       "    }\n",
       "</style>\n",
       "<table border=\"1\" class=\"dataframe\">\n",
       "  <thead>\n",
       "    <tr style=\"text-align: right;\">\n",
       "      <th></th>\n",
       "      <th>artist</th>\n",
       "      <th>song</th>\n",
       "      <th>text</th>\n",
       "    </tr>\n",
       "  </thead>\n",
       "  <tbody>\n",
       "    <tr>\n",
       "      <th>0</th>\n",
       "      <td>Aerosmith</td>\n",
       "      <td>Joanie's Butterfly</td>\n",
       "      <td>What a stormy night, when I met the pony,  \\nI...</td>\n",
       "    </tr>\n",
       "    <tr>\n",
       "      <th>1</th>\n",
       "      <td>Gucci Mane</td>\n",
       "      <td>Cyeah Cyeah Cyeah Cyeah</td>\n",
       "      <td>Cyeah cyeah cyeah cyeah cyeah  \\n  \\n[Hook: gu...</td>\n",
       "    </tr>\n",
       "    <tr>\n",
       "      <th>2</th>\n",
       "      <td>Dolly Parton</td>\n",
       "      <td>Change</td>\n",
       "      <td>(Dolly Parton)  \\nSomeday when I'm over you  \\...</td>\n",
       "    </tr>\n",
       "    <tr>\n",
       "      <th>3</th>\n",
       "      <td>Marilyn Manson</td>\n",
       "      <td>Five To One</td>\n",
       "      <td>Five to one baby one in five  \\nNo one here ge...</td>\n",
       "    </tr>\n",
       "    <tr>\n",
       "      <th>4</th>\n",
       "      <td>Pet Shop Boys</td>\n",
       "      <td>Left To My Own Devices</td>\n",
       "      <td>I get out of bed at half past ten  \\nPhone up ...</td>\n",
       "    </tr>\n",
       "    <tr>\n",
       "      <th>...</th>\n",
       "      <td>...</td>\n",
       "      <td>...</td>\n",
       "      <td>...</td>\n",
       "    </tr>\n",
       "    <tr>\n",
       "      <th>495</th>\n",
       "      <td>Roxette</td>\n",
       "      <td>So Far Away</td>\n",
       "      <td>In the coldest time of year,  \\nDarkness all a...</td>\n",
       "    </tr>\n",
       "    <tr>\n",
       "      <th>496</th>\n",
       "      <td>Neil Sedaka</td>\n",
       "      <td>My World Keeps Getting Smaller Every Day</td>\n",
       "      <td>Round and round I go in circles trying to be f...</td>\n",
       "    </tr>\n",
       "    <tr>\n",
       "      <th>497</th>\n",
       "      <td>Electric Light Orchestra</td>\n",
       "      <td>So Fine</td>\n",
       "      <td>Two drifters on the morning sky,  \\nTwo drifte...</td>\n",
       "    </tr>\n",
       "    <tr>\n",
       "      <th>498</th>\n",
       "      <td>Eurythmics</td>\n",
       "      <td>Walking On Broken Glass</td>\n",
       "      <td>You were the sweetest thing that I ever knew  ...</td>\n",
       "    </tr>\n",
       "    <tr>\n",
       "      <th>499</th>\n",
       "      <td>Fabolous</td>\n",
       "      <td>Money Goes, Honey Stay</td>\n",
       "      <td>When The Money Goes Will The Honeys Stay  \\nWh...</td>\n",
       "    </tr>\n",
       "  </tbody>\n",
       "</table>\n",
       "<p>500 rows × 3 columns</p>\n",
       "</div>"
      ],
      "text/plain": [
       "                       artist                                      song  \\\n",
       "0                   Aerosmith                        Joanie's Butterfly   \n",
       "1                  Gucci Mane                   Cyeah Cyeah Cyeah Cyeah   \n",
       "2                Dolly Parton                                    Change   \n",
       "3              Marilyn Manson                               Five To One   \n",
       "4               Pet Shop Boys                    Left To My Own Devices   \n",
       "..                        ...                                       ...   \n",
       "495                   Roxette                               So Far Away   \n",
       "496               Neil Sedaka  My World Keeps Getting Smaller Every Day   \n",
       "497  Electric Light Orchestra                                   So Fine   \n",
       "498                Eurythmics                   Walking On Broken Glass   \n",
       "499                  Fabolous                    Money Goes, Honey Stay   \n",
       "\n",
       "                                                  text  \n",
       "0    What a stormy night, when I met the pony,  \\nI...  \n",
       "1    Cyeah cyeah cyeah cyeah cyeah  \\n  \\n[Hook: gu...  \n",
       "2    (Dolly Parton)  \\nSomeday when I'm over you  \\...  \n",
       "3    Five to one baby one in five  \\nNo one here ge...  \n",
       "4    I get out of bed at half past ten  \\nPhone up ...  \n",
       "..                                                 ...  \n",
       "495  In the coldest time of year,  \\nDarkness all a...  \n",
       "496  Round and round I go in circles trying to be f...  \n",
       "497  Two drifters on the morning sky,  \\nTwo drifte...  \n",
       "498  You were the sweetest thing that I ever knew  ...  \n",
       "499  When The Money Goes Will The Honeys Stay  \\nWh...  \n",
       "\n",
       "[500 rows x 3 columns]"
      ]
     },
     "execution_count": 5,
     "metadata": {},
     "output_type": "execute_result"
    }
   ],
   "source": [
    "df.sample(n=500).drop('link',axis=1).reset_index(drop=True)"
   ]
  },
  {
   "cell_type": "markdown",
   "id": "ff53f489-f249-45c1-8ff6-9fe9489ac41d",
   "metadata": {},
   "source": [
    "cleaning"
   ]
  },
  {
   "cell_type": "code",
   "execution_count": 7,
   "id": "8370b172-da38-4830-92a0-dda778c32ee0",
   "metadata": {},
   "outputs": [
    {
     "data": {
      "text/plain": [
       "\"Ahe's My Kind Of Girl\""
      ]
     },
     "execution_count": 7,
     "metadata": {},
     "output_type": "execute_result"
    }
   ],
   "source": [
    "df['song'][0]"
   ]
  },
  {
   "cell_type": "code",
   "execution_count": 8,
   "id": "ceb884e9-d0f9-45ac-9adf-0b6f0516fa27",
   "metadata": {},
   "outputs": [
    {
     "data": {
      "text/plain": [
       "0        Look at her face, it's a wonderful face  \\nAnd...\n",
       "1        Take it easy with me, please  \\nTouch me gentl...\n",
       "2        I'll never know why I had to go  \\nWhy I had t...\n",
       "3        Making somebody happy is a question of give an...\n",
       "4        Making somebody happy is a question of give an...\n",
       "                               ...                        \n",
       "57645    Irie days come on play  \\nLet the angels fly l...\n",
       "57646    Power to the workers  \\nMore power  \\nPower to...\n",
       "57647    all you need  \\nis something i'll believe  \\nf...\n",
       "57648    northern star  \\nam i frightened  \\nwhere can ...\n",
       "57649    come in  \\nmake yourself at home  \\ni'm a bit ...\n",
       "Name: text, Length: 57650, dtype: object"
      ]
     },
     "execution_count": 8,
     "metadata": {},
     "output_type": "execute_result"
    }
   ],
   "source": [
    "df['text']"
   ]
  },
  {
   "cell_type": "code",
   "execution_count": 9,
   "id": "019ab791-4259-490f-b888-f5f684986bb1",
   "metadata": {},
   "outputs": [
    {
     "data": {
      "text/plain": [
       "\"Look at her face, it's a wonderful face  \\nAnd it means something special to me  \\nLook at the way that she smiles when she sees me  \\nHow lucky can one fellow be?  \\n  \\nShe's just my kind of girl, she makes me feel fine  \\nWho could ever believe that she could be mine?  \\nShe's just my kind of girl, without her I'm blue  \\nAnd if she ever leaves me what could I do, what could I do?  \\n  \\nAnd when we go for a walk in the park  \\nAnd she holds me and squeezes my hand  \\nWe'll go on walking for hours and talking  \\nAbout all the things that we plan  \\n  \\nShe's just my kind of girl, she makes me feel fine  \\nWho could ever believe that she could be mine?  \\nShe's just my kind of girl, without her I'm blue  \\nAnd if she ever leaves me what could I do, what could I do?\\n\\n\""
      ]
     },
     "execution_count": 9,
     "metadata": {},
     "output_type": "execute_result"
    }
   ],
   "source": [
    "df['text'][0]"
   ]
  },
  {
   "cell_type": "code",
   "execution_count": 18,
   "id": "2202f399-dbee-489a-a8f3-b53104ede031",
   "metadata": {},
   "outputs": [
    {
     "ename": "SyntaxError",
     "evalue": "invalid syntax. Perhaps you forgot a comma? (2165135994.py, line 1)",
     "output_type": "error",
     "traceback": [
      "  \u001b[36mCell\u001b[39m\u001b[36m \u001b[39m\u001b[32mIn[18]\u001b[39m\u001b[32m, line 1\u001b[39m\n\u001b[31m    \u001b[39m\u001b[31mdf['text'].str.lower().replace(r,'['^a-zA-Z0-9']',' ')\u001b[39m\n                                     ^\n\u001b[31mSyntaxError\u001b[39m\u001b[31m:\u001b[39m invalid syntax. Perhaps you forgot a comma?\n"
     ]
    }
   ],
   "source": [
    "df['text'].str.lower().replace(r,'['^a-zA-Z0-9']',' ')"
   ]
  },
  {
   "cell_type": "code",
   "execution_count": 20,
   "id": "24261971-8b3f-43f1-a43f-fda99ffbe2cc",
   "metadata": {},
   "outputs": [],
   "source": [
    "df['text'] = df['text'].str.lower().replace(r'[^\\w\\s]','').replace(r'\\n',' ', regex=True)"
   ]
  },
  {
   "cell_type": "code",
   "execution_count": 22,
   "id": "f58114de-76f3-4f19-a33e-41ac0d6a4bee",
   "metadata": {},
   "outputs": [
    {
     "data": {
      "text/plain": [
       "'look at her face  it s a wonderful face   and it means something special to me   look at the way that she smiles when she sees me   how lucky can one fellow be       she s just my kind of girl  she makes me feel fine   who could ever believe that she could be mine    she s just my kind of girl  without her i m blue   and if she ever leaves me what could i do  what could i do       and when we go for a walk in the park   and she holds me and squeezes my hand   we ll go on walking for hours and talking   about all the things that we plan      she s just my kind of girl  she makes me feel fine   who could ever believe that she could be mine    she s just my kind of girl  without her i m blue   and if she ever leaves me what could i do  what could i do   '"
      ]
     },
     "execution_count": 22,
     "metadata": {},
     "output_type": "execute_result"
    }
   ],
   "source": [
    "df['text'][0]"
   ]
  },
  {
   "cell_type": "code",
   "execution_count": 24,
   "id": "e5702db7-6a52-454a-a7c8-0fd01f4a7f6b",
   "metadata": {},
   "outputs": [
    {
     "data": {
      "text/plain": [
       "0                ABBA\n",
       "1                ABBA\n",
       "2                ABBA\n",
       "3                ABBA\n",
       "4                ABBA\n",
       "             ...     \n",
       "57645    Ziggy Marley\n",
       "57646    Ziggy Marley\n",
       "57647            Zwan\n",
       "57648            Zwan\n",
       "57649            Zwan\n",
       "Name: artist, Length: 57650, dtype: object"
      ]
     },
     "execution_count": 24,
     "metadata": {},
     "output_type": "execute_result"
    }
   ],
   "source": [
    "df['artist']"
   ]
  },
  {
   "cell_type": "code",
   "execution_count": null,
   "id": "2e318eb1-e14a-4019-84ae-9485d6ed6071",
   "metadata": {},
   "outputs": [],
   "source": []
  }
 ],
 "metadata": {
  "kernelspec": {
   "display_name": "Python 3 (ipykernel)",
   "language": "python",
   "name": "python3"
  },
  "language_info": {
   "codemirror_mode": {
    "name": "ipython",
    "version": 3
   },
   "file_extension": ".py",
   "mimetype": "text/x-python",
   "name": "python",
   "nbconvert_exporter": "python",
   "pygments_lexer": "ipython3",
   "version": "3.12.3"
  }
 },
 "nbformat": 4,
 "nbformat_minor": 5
}
